{
  "nbformat": 4,
  "nbformat_minor": 0,
  "metadata": {
    "colab": {
      "provenance": [],
      "authorship_tag": "ABX9TyMBINLKPm/JZ3e9/U7lfih2",
      "include_colab_link": true
    },
    "kernelspec": {
      "name": "python3",
      "display_name": "Python 3"
    },
    "language_info": {
      "name": "python"
    }
  },
  "cells": [
    {
      "cell_type": "markdown",
      "metadata": {
        "id": "view-in-github",
        "colab_type": "text"
      },
      "source": [
        "<a href=\"https://colab.research.google.com/github/bahrullll/Python/blob/main/tugas_mentor.ipynb\" target=\"_parent\"><img src=\"https://colab.research.google.com/assets/colab-badge.svg\" alt=\"Open In Colab\"/></a>"
      ]
    },
    {
      "cell_type": "code",
      "source": [
        "count=0\n",
        "contoh_list=['acc', 'xyz', 'warr','eqwe','aba', '1221']\n",
        "\n",
        "for i in range(len(contoh_list)):\n",
        "    if(contoh_list[i][0] == contoh_list[i][-1]):\n",
        "        count += 1\n",
        "\n",
        "print('jumlah string yg sama=',count)\n",
        "\n",
        "print('''pada case ini merupakan looping aray, \n",
        "dimana menyamakan string dari variabel contoh_list kiri dan kanan,''')"
      ],
      "metadata": {
        "colab": {
          "base_uri": "https://localhost:8080/"
        },
        "id": "lX0wTql-GEez",
        "outputId": "67e7e319-1198-4601-ab0f-b7565a6e08cf"
      },
      "execution_count": null,
      "outputs": [
        {
          "output_type": "stream",
          "name": "stdout",
          "text": [
            "jumlah string yg sama= 3\n",
            "pada case ini merupakan looping aray, \n",
            "dimana menyamakan string dari variabel contoh_list kiri dan kanan,\n"
          ]
        }
      ]
    },
    {
      "cell_type": "code",
      "execution_count": null,
      "metadata": {
        "id": "OY_c8Wqc4JBo",
        "colab": {
          "base_uri": "https://localhost:8080/"
        },
        "outputId": "b16e7d73-f399-444f-fd8c-92e40023d807"
      },
      "outputs": [
        {
          "output_type": "stream",
          "name": "stdout",
          "text": [
            "Totalnya adalah  166650\n",
            "Rata-ratanya adalah  3333.0\n"
          ]
        }
      ],
      "source": [
        "odd=[x for x in range(1,100+1) if x %2!=0]\n",
        "squares=[x**2 for x in odd]\n",
        "total=sum(squares)\n",
        "ratarata=total/len(squares)\n",
        "\n",
        "print('Totalnya adalah ',total)\n",
        "print('Rata-ratanya adalah ',ratarata)"
      ]
    },
    {
      "cell_type": "code",
      "source": [
        "usia = int(input('masukan angka : '))\n",
        "if usia >= 5 and usia <=10:\n",
        "  print (\" anak-anak\")\n",
        "elif usia >10 and usia <=20:\n",
        "  print (\"Remaja\")\n",
        "else:\n",
        "  print(\"Dewasa\")"
      ],
      "metadata": {
        "colab": {
          "base_uri": "https://localhost:8080/"
        },
        "id": "3G-rAV8qIO28",
        "outputId": "8e80aa53-dd3e-4f62-d1ba-9bbe3250d99c"
      },
      "execution_count": null,
      "outputs": [
        {
          "output_type": "stream",
          "name": "stdout",
          "text": [
            "masukan angka : 20\n",
            "Remaja\n"
          ]
        }
      ]
    },
    {
      "cell_type": "code",
      "source": [
        "while True:\n",
        "  usia = int(input('masukan angka : '))\n",
        "  if usia >= 5 and usia <=10:\n",
        "    print (\" anak-anak\")\n",
        "  elif usia >10 and usia <=20:\n",
        "    print (\"Remaja\")\n",
        "  else:\n",
        "    print(\"Dewasa\")\n",
        "    break"
      ],
      "metadata": {
        "colab": {
          "base_uri": "https://localhost:8080/"
        },
        "id": "9B5eQEN-JgMa",
        "outputId": "426a39c2-b5e5-4222-f40b-77ae49152ffc"
      },
      "execution_count": null,
      "outputs": [
        {
          "output_type": "stream",
          "name": "stdout",
          "text": [
            "masukan angka : 7\n",
            " anak-anak\n",
            "masukan angka : 15\n",
            "Remaja\n",
            "masukan angka : 60\n",
            "Dewasa\n"
          ]
        }
      ]
    },
    {
      "cell_type": "code",
      "source": [
        "saldo_awal = 5000\n",
        "deposit= input('berapa mau deposiitnya :')\n",
        "hutang = 50000\n",
        "\n",
        "saldo_total = int(saldo_awal)+int(deposit)\n",
        "\n",
        "if saldo_total >= hutang :\n",
        "  print(f'saldo anda {saldo_total} cukup untuk membayar hutang')\n",
        "else :\n",
        "  print('saldo anda tidak cuckup mebat=yar hutang')"
      ],
      "metadata": {
        "colab": {
          "base_uri": "https://localhost:8080/"
        },
        "id": "MN-lIA1gIhVV",
        "outputId": "1dc919d8-b947-4eca-c607-97f54fb4be8e"
      },
      "execution_count": null,
      "outputs": [
        {
          "output_type": "stream",
          "name": "stdout",
          "text": [
            "berapa mau deposiitnya :700000\n",
            "saldo anda 705000 cukup untuk membayar hutang\n"
          ]
        }
      ]
    },
    {
      "cell_type": "code",
      "source": [
        "deposit = [20000,50000,100000]\n",
        "keperluan = ['pemindahan','investasi','amal']\n",
        "\n",
        "for deposit,keperluan in zip(deposit, keperluan):\n",
        "  print(f'deposit {deposit} untuk {keperluan}')"
      ],
      "metadata": {
        "colab": {
          "base_uri": "https://localhost:8080/"
        },
        "id": "PP8fUe8JkCCZ",
        "outputId": "f4901a74-45f5-498a-a33a-6a6d35006315"
      },
      "execution_count": null,
      "outputs": [
        {
          "output_type": "stream",
          "name": "stdout",
          "text": [
            "deposit 20000 untuk pemindahan\n",
            "deposit 50000 untuk investasi\n",
            "deposit 100000 untuk amal\n"
          ]
        }
      ]
    },
    {
      "cell_type": "code",
      "source": [
        "pas= input(\"password= \")\n",
        "\n",
        "\n",
        "if len(pas) < 5:\n",
        "    print(\"terlalu pendek\")\n",
        "elif not any(char.isupper() for char in pas):\n",
        "    print(\"Password harus mengandung setidaknya satu huruf kapital. Silakan coba lagi. \")\n",
        "elif not any(char.isdigit() for char in pas):\n",
        "     print(\"Password harus mengandung setidaknya satu angka. Silakan coba lagi.\")\n",
        "\n",
        "else:\n",
        "    print(\"password valid\")"
      ],
      "metadata": {
        "colab": {
          "base_uri": "https://localhost:8080/"
        },
        "id": "IH8y2KjyHI_5",
        "outputId": "2ef7edae-4a0f-40a3-cecf-bff37d1fffd8"
      },
      "execution_count": null,
      "outputs": [
        {
          "output_type": "stream",
          "name": "stdout",
          "text": [
            "password= BahrulZkr15\n",
            "password valid\n"
          ]
        }
      ]
    },
    {
      "cell_type": "code",
      "source": [
        "pin = input(\"Masukkan PIN : \")\n",
        "while not pin.isdigit() or len(pin) != 6:\n",
        "    print(\"PIN harus berupa angka dan memiliki 6 digit. Silakan coba lagi.\")\n",
        "    pin = input(\"Masukkan PIN (hanya angka, 6 digit): \")\n",
        "\n",
        "print(\"PIN yang dimasukkan:\", pin)"
      ],
      "metadata": {
        "colab": {
          "base_uri": "https://localhost:8080/"
        },
        "id": "Kj_oAIknoN5E",
        "outputId": "3e81142b-0d25-4444-bbe6-4426bcfe90d1"
      },
      "execution_count": null,
      "outputs": [
        {
          "output_type": "stream",
          "name": "stdout",
          "text": [
            "Masukkan PIN : 32\n",
            "PIN harus berupa angka dan memiliki 6 digit. Silakan coba lagi.\n",
            "Masukkan PIN (hanya angka, 6 digit): 4234243\n",
            "PIN harus berupa angka dan memiliki 6 digit. Silakan coba lagi.\n",
            "Masukkan PIN (hanya angka, 6 digit): 234234\n",
            "PIN yang dimasukkan: 234234\n"
          ]
        }
      ]
    },
    {
      "cell_type": "code",
      "source": [
        "while True:\n",
        "    kata=input(\"masukan kata= \")\n",
        "    if kata == kata[::-1]:\n",
        "        print(\"string merupakan palidrom\")\n",
        "        break\n",
        "    else:\n",
        "        print(\"string bukan palidrom\")"
      ],
      "metadata": {
        "id": "wboW7guTo76k",
        "colab": {
          "base_uri": "https://localhost:8080/"
        },
        "outputId": "03b82c2d-e134-49e7-ea9e-5f579fbe7e9f"
      },
      "execution_count": null,
      "outputs": [
        {
          "output_type": "stream",
          "name": "stdout",
          "text": [
            "masukan kata= tomat\n",
            "string bukan palidrom\n",
            "masukan kata= Tamat\n",
            "string bukan palidrom\n",
            "masukan kata= tamat\n",
            "string merupakan palidrom\n"
          ]
        }
      ]
    },
    {
      "cell_type": "code",
      "source": [
        "#penambahan digit\n",
        "def hitung(s):\n",
        "    d={'upper':0,'lower':0,'digit':0}\n",
        "    for x in s:\n",
        "        if x.isupper():\n",
        "            d['upper']+=1\n",
        "        elif x.isdigit():\n",
        "            d['digit']+=1\n",
        "        elif x.islower():\n",
        "            d['lower']+=1\n",
        "     \n",
        "    print('string kalimat:', s)\n",
        "    print('jumlah huruf kapital:',d['upper'])\n",
        "    print('jumlah huruf kecil',d['lower'])\n",
        "    print('jumlah digit',d['digit'])\n",
        " \n",
        "\n",
        "hitung('aAsssSWWWJHSJ123'+'123')"
      ],
      "metadata": {
        "colab": {
          "base_uri": "https://localhost:8080/"
        },
        "id": "BYdQSZS2RQDW",
        "outputId": "c5707990-a44d-4ed3-abc4-d256ce78e8d0"
      },
      "execution_count": null,
      "outputs": [
        {
          "output_type": "stream",
          "name": "stdout",
          "text": [
            "string kalimat: aAsssSWWWJHSJ123123\n",
            "jumlah huruf kapital: 9\n",
            "jumlah huruf kecil 4\n",
            "jumlah digit 6\n"
          ]
        }
      ]
    },
    {
      "cell_type": "code",
      "source": [
        "#Kata ganjil\n",
        "list1=[\"ada\",\"sapa\",\"warga\",\"kanopi\",\"layang\",\"tamu\",\"kampus\"]\n",
        "for i in list1:\n",
        "    if len(i)%2==1:\n",
        "        print(i,end=\" \")"
      ],
      "metadata": {
        "colab": {
          "base_uri": "https://localhost:8080/"
        },
        "id": "iDsbQnXvjdkv",
        "outputId": "f8df76a6-6d33-4ed6-ee6b-788559817ef7"
      },
      "execution_count": null,
      "outputs": [
        {
          "output_type": "stream",
          "name": "stdout",
          "text": [
            "ada warga "
          ]
        }
      ]
    },
    {
      "cell_type": "code",
      "source": [
        "#angka ganjil\n",
        "list1 = [1, 2, 3, 4, 5, 6, 7, 8, 9, 10]\n",
        "\n",
        "for angka in list1:\n",
        "    if angka % 2 == 1:\n",
        "        print(angka, end=\" \")\n"
      ],
      "metadata": {
        "colab": {
          "base_uri": "https://localhost:8080/"
        },
        "id": "dX0kYBiHngwl",
        "outputId": "17a4f32c-09df-47ed-a88f-3fff034858f2"
      },
      "execution_count": null,
      "outputs": [
        {
          "output_type": "stream",
          "name": "stdout",
          "text": [
            "1 3 5 7 9 "
          ]
        }
      ]
    },
    {
      "cell_type": "code",
      "source": [
        "#kata genap\n",
        "list1=[\"ada\",\"sapa\",\"warga\",\"kanopi\",\"layang\",\"tamu\"]\n",
        "for i in list1:\n",
        "    if len(i)%2==0:\n",
        "        print(i,end=\" \")"
      ],
      "metadata": {
        "colab": {
          "base_uri": "https://localhost:8080/"
        },
        "id": "a_YLW44-jsU8",
        "outputId": "16a024ef-f8ac-4eec-c232-6095afbfa351"
      },
      "execution_count": null,
      "outputs": [
        {
          "output_type": "stream",
          "name": "stdout",
          "text": [
            "sapa kanopi layang tamu "
          ]
        }
      ]
    },
    {
      "cell_type": "code",
      "source": [
        "#angka genap\n",
        "list1 = [1, 2, 3, 4, 5, 6, 7, 8, 9, 10]\n",
        "\n",
        "for angka in list1:\n",
        "    if angka % 2 == 0:\n",
        "        print(angka, end=\" \")\n"
      ],
      "metadata": {
        "colab": {
          "base_uri": "https://localhost:8080/"
        },
        "id": "tmg5_S7OnpRk",
        "outputId": "321f3c2c-fe1c-45f4-e757-e4767b60ab08"
      },
      "execution_count": null,
      "outputs": [
        {
          "output_type": "stream",
          "name": "stdout",
          "text": [
            "2 4 6 8 10 "
          ]
        }
      ]
    }
  ]
}